{
 "cells": [
  {
   "cell_type": "code",
   "execution_count": 1,
   "id": "754ade5e",
   "metadata": {},
   "outputs": [],
   "source": [
    "class Student:\n",
    "    def __init__(self, name, rollnumber):\n",
    "        self.name = name\n",
    "        self.rollnumber = rollnumber\n",
    "        \n",
    "    def setName(self, name):\n",
    "        self.name = name\n",
    "        \n",
    "    def getName(self):\n",
    "        print(self.name)\n",
    "        \n",
    "    def setRollNumber(self, rollnumber):\n",
    "        self.rollnumber = rollnumber\n",
    "        \n",
    "    def getRollNumber(self):\n",
    "        print(self.rollnumber)"
   ]
  },
  {
   "cell_type": "code",
   "execution_count": 2,
   "id": "93bd040e",
   "metadata": {},
   "outputs": [],
   "source": [
    "s1 = Student(\"Prakash\", 102125872)\n",
    "s2 = Student(\"Prabhu\", 123344)"
   ]
  },
  {
   "cell_type": "code",
   "execution_count": 7,
   "id": "8ddb9aee",
   "metadata": {},
   "outputs": [],
   "source": [
    "s1.setName(\"Mathes\")"
   ]
  },
  {
   "cell_type": "code",
   "execution_count": 8,
   "id": "fc172db9",
   "metadata": {},
   "outputs": [
    {
     "name": "stdout",
     "output_type": "stream",
     "text": [
      "Mathes\n"
     ]
    }
   ],
   "source": [
    "s1.getName()"
   ]
  },
  {
   "cell_type": "code",
   "execution_count": 9,
   "id": "7994260d",
   "metadata": {},
   "outputs": [
    {
     "name": "stdout",
     "output_type": "stream",
     "text": [
      "102125872\n"
     ]
    }
   ],
   "source": [
    "s1.getRollNumber()"
   ]
  },
  {
   "cell_type": "code",
   "execution_count": 10,
   "id": "edc7e099",
   "metadata": {},
   "outputs": [
    {
     "name": "stdout",
     "output_type": "stream",
     "text": [
      "Prabhu\n"
     ]
    }
   ],
   "source": [
    "\n",
    "s2.getName()"
   ]
  },
  {
   "cell_type": "code",
   "execution_count": 11,
   "id": "4823e3c9",
   "metadata": {},
   "outputs": [
    {
     "name": "stdout",
     "output_type": "stream",
     "text": [
      "123344\n"
     ]
    }
   ],
   "source": [
    "s2.getRollNumber()"
   ]
  },
  {
   "cell_type": "code",
   "execution_count": null,
   "id": "d9165019",
   "metadata": {},
   "outputs": [],
   "source": []
  }
 ],
 "metadata": {
  "kernelspec": {
   "display_name": "Python 3 (ipykernel)",
   "language": "python",
   "name": "python3"
  },
  "language_info": {
   "codemirror_mode": {
    "name": "ipython",
    "version": 3
   },
   "file_extension": ".py",
   "mimetype": "text/x-python",
   "name": "python",
   "nbconvert_exporter": "python",
   "pygments_lexer": "ipython3",
   "version": "3.10.6"
  }
 },
 "nbformat": 4,
 "nbformat_minor": 5
}
